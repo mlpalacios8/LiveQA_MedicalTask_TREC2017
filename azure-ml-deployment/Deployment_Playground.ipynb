{
 "cells": [
  {
   "cell_type": "markdown",
   "metadata": {},
   "source": [
    "# Connecting to Azure ML Client"
   ]
  },
  {
   "cell_type": "code",
   "execution_count": 75,
   "metadata": {},
   "outputs": [
    {
     "name": "stderr",
     "output_type": "stream",
     "text": [
      "Found the config file in: .\\config.json\n"
     ]
    }
   ],
   "source": [
    "from azure.ai.ml import MLClient\n",
    "from azure.ai.ml.entities import ManagedOnlineEndpoint, ManagedOnlineDeployment, CodeConfiguration, Environment, OnlineRequestSettings\n",
    "from azure.identity import DefaultAzureCredential\n",
    "import os\n",
    "\n",
    "# Initialize MLClient\n",
    "credential = DefaultAzureCredential()\n",
    "ml_client = MLClient.from_config(credential=credential)\n"
   ]
  },
  {
   "cell_type": "markdown",
   "metadata": {},
   "source": [
    "# Define the endpoint and create it"
   ]
  },
  {
   "cell_type": "code",
   "execution_count": null,
   "metadata": {},
   "outputs": [],
   "source": [
    "# Define the endpoint\n",
    "endpoint_name = \"medical-question-endpoint\"\n",
    "endpoint = ManagedOnlineEndpoint(\n",
    "    name=endpoint_name,\n",
    "    description=\"Endpoint for OpenAI and you.com API based inference for answering medical questions\",\n",
    "    auth_mode=\"key\"\n",
    ")\n",
    "\n",
    "# Create the endpoint\n",
    "ml_client.online_endpoints.begin_create_or_update(endpoint).result()"
   ]
  },
  {
   "cell_type": "markdown",
   "metadata": {},
   "source": [
    "# Creating an environment with the required dependencies"
   ]
  },
  {
   "cell_type": "code",
   "execution_count": 31,
   "metadata": {},
   "outputs": [
    {
     "data": {
      "text/plain": [
       "Environment({'arm_type': 'environment_version', 'latest_version': None, 'image': 'mcr.microsoft.com/azureml/openmpi3.1.2-ubuntu18.04', 'intellectual_property': None, 'is_anonymous': False, 'auto_increment_version': False, 'auto_delete_setting': None, 'name': 'medical-question-env', 'description': 'Environment created from a Docker image plus Conda environment that includes the necessary dependencies for the medical question answering model', 'tags': {}, 'properties': {'azureml.labels': 'latest'}, 'print_as_yaml': False, 'id': '/subscriptions/074fef04-0bdf-4f33-8f67-8609f7d113dd/resourceGroups/Marcel_Students/providers/Microsoft.MachineLearningServices/workspaces/Marcel_PlaygroundML/environments/medical-question-env/versions/20', 'Resource__source_path': '', 'base_path': 'c:\\\\Users\\\\marce\\\\Documents\\\\2 Bcas-Qualentum\\\\Trabajo Final de Bootcamp\\\\LiveQA_MedicalTask_TREC2017\\\\azure-ml-deployment', 'creation_context': <azure.ai.ml.entities._system_data.SystemData object at 0x00000259AB6DB790>, 'serialize': <msrest.serialization.Serializer object at 0x00000259AB6DA850>, 'version': '20', 'conda_file': {'channels': ['conda-forge', 'defaults'], 'dependencies': ['python=3.11.5', 'openai', 'requests', 'pip', {'pip': ['azure-identity', 'azure-keyvault-secrets', 'azureml-core', 'azureml-dataset-runtime', 'azureml-inference-server-http', 'azureml-defaults']}], 'name': 'medical_question_env'}, 'build': None, 'inference_config': None, 'os_type': 'Linux', 'conda_file_path': None, 'path': None, 'datastore': None, 'upload_hash': None, 'translated_conda_file': '{\\n  \"channels\": [\\n    \"conda-forge\",\\n    \"defaults\"\\n  ],\\n  \"dependencies\": [\\n    \"python=3.11.5\",\\n    \"openai\",\\n    \"requests\",\\n    \"pip\",\\n    {\\n      \"pip\": [\\n        \"azure-identity\",\\n        \"azure-keyvault-secrets\",\\n        \"azureml-core\",\\n        \"azureml-dataset-runtime\",\\n        \"azureml-inference-server-http\",\\n        \"azureml-defaults\"\\n      ]\\n    }\\n  ],\\n  \"name\": \"medical_question_env\"\\n}'})"
      ]
     },
     "execution_count": 31,
     "metadata": {},
     "output_type": "execute_result"
    }
   ],
   "source": [
    "# Define the environment\n",
    "medical_question_env = Environment(\n",
    "    name=\"medical-question-env\",\n",
    "    image=\"mcr.microsoft.com/azureml/openmpi3.1.2-ubuntu18.04\",\n",
    "    conda_file=\"medical_question_env.yml\",\n",
    "    description=\"Environment created from a Docker image plus Conda environment that includes the necessary dependencies for the medical question answering model\"\n",
    ")\n",
    "# mcr.microsoft.com/azureml/openmpi3.1.2-ubuntu18.04\n",
    "\n",
    "# Create the environment\n",
    "ml_client.environments.create_or_update(medical_question_env)"
   ]
  },
  {
   "cell_type": "markdown",
   "metadata": {},
   "source": [
    "# Deploying the model/python script"
   ]
  },
  {
   "cell_type": "code",
   "execution_count": 93,
   "metadata": {},
   "outputs": [
    {
     "name": "stderr",
     "output_type": "stream",
     "text": [
      "Check: endpoint medical-question-endpoint exists\n",
      "Uploading code (0.01 MBs): 100%|##########| 7357/7357 [00:00<00:00, 143881.93it/s]\n",
      "\n",
      "\n"
     ]
    },
    {
     "name": "stdout",
     "output_type": "stream",
     "text": [
      "..........................................."
     ]
    },
    {
     "data": {
      "text/plain": [
       "ManagedOnlineDeployment({'private_network_connection': None, 'package_model': False, 'provisioning_state': 'Succeeded', 'endpoint_name': 'medical-question-endpoint', 'type': 'Managed', 'name': 'medical-question-deployment', 'description': None, 'tags': {}, 'properties': {'AzureAsyncOperationUri': 'https://management.azure.com/subscriptions/074fef04-0bdf-4f33-8f67-8609f7d113dd/providers/Microsoft.MachineLearningServices/locations/westeurope/mfeOperationsStatus/odidp:b67618ed-6265-41ce-a880-14ca3d377412:84eda217-5cf2-4f9b-866b-0007b5dd2b7d?api-version=2023-04-01-preview'}, 'print_as_yaml': False, 'id': '/subscriptions/074fef04-0bdf-4f33-8f67-8609f7d113dd/resourceGroups/Marcel_Students/providers/Microsoft.MachineLearningServices/workspaces/Marcel_PlaygroundML/onlineEndpoints/medical-question-endpoint/deployments/medical-question-deployment', 'Resource__source_path': '', 'base_path': 'c:\\\\Users\\\\marce\\\\Documents\\\\2 Bcas-Qualentum\\\\Trabajo Final de Bootcamp\\\\LiveQA_MedicalTask_TREC2017\\\\azure-ml-deployment', 'creation_context': None, 'serialize': <msrest.serialization.Serializer object at 0x00000259AEFB3850>, 'model': None, 'code_configuration': {'code': '/subscriptions/074fef04-0bdf-4f33-8f67-8609f7d113dd/resourceGroups/Marcel_Students/providers/Microsoft.MachineLearningServices/workspaces/Marcel_PlaygroundML/codes/e6786f2a-0fa7-416c-9004-609b390bdcac/versions/1'}, 'environment': '/subscriptions/074fef04-0bdf-4f33-8f67-8609f7d113dd/resourceGroups/Marcel_Students/providers/Microsoft.MachineLearningServices/workspaces/Marcel_PlaygroundML/environments/medical-question-env/versions/20', 'environment_variables': {'AZUREML_ENTRY_SCRIPT': 'azure_inference_script.py', 'AML_APP_ROOT': '/var/azureml-app/code'}, 'app_insights_enabled': False, 'scale_settings': <azure.ai.ml.entities._deployment.scale_settings.DefaultScaleSettings object at 0x00000259AEEFBC90>, 'request_settings': <azure.ai.ml.entities._deployment.deployment_settings.OnlineRequestSettings object at 0x00000259AEF09A90>, 'liveness_probe': <azure.ai.ml.entities._deployment.deployment_settings.ProbeSettings object at 0x00000259AEEFB1D0>, 'readiness_probe': <azure.ai.ml.entities._deployment.deployment_settings.ProbeSettings object at 0x00000259AEFE32D0>, 'instance_count': 1, 'arm_type': 'online_deployment', 'model_mount_path': None, 'instance_type': 'Standard_F2s_v2', 'data_collector': None, 'egress_public_network_access': 'Enabled'})"
      ]
     },
     "execution_count": 93,
     "metadata": {},
     "output_type": "execute_result"
    }
   ],
   "source": [
    "# Define the deployment\n",
    "endpoint_name = \"medical-question-endpoint\"\n",
    "deployment = ManagedOnlineDeployment(\n",
    "    name=\"medical-question-deployment\",\n",
    "    endpoint_name=endpoint_name,\n",
    "    environment=medical_question_env,\n",
    "    code_configuration=CodeConfiguration(code=\"code/\", scoring_script=\"azure_inference_script.py\"),\n",
    "    request_settings=OnlineRequestSettings(request_timeout_ms=20000),\n",
    "    instance_type=\"Standard_F2s_v2\",\n",
    "    instance_count=1,\n",
    ")\n",
    "\n",
    "# Create the deployment\n",
    "ml_client.online_deployments.begin_create_or_update(deployment).result()"
   ]
  },
  {
   "cell_type": "markdown",
   "metadata": {},
   "source": [
    "# Activate the deployment by sending 100% of the traffic to it"
   ]
  },
  {
   "cell_type": "code",
   "execution_count": 94,
   "metadata": {},
   "outputs": [
    {
     "name": "stderr",
     "output_type": "stream",
     "text": [
      "Readonly attribute principal_id will be ignored in class <class 'azure.ai.ml._restclient.v2022_05_01.models._models_py3.ManagedServiceIdentity'>\n",
      "Readonly attribute tenant_id will be ignored in class <class 'azure.ai.ml._restclient.v2022_05_01.models._models_py3.ManagedServiceIdentity'>\n"
     ]
    },
    {
     "name": "stdout",
     "output_type": "stream",
     "text": [
      "Endpoint medical-question-endpoint is up and running.\n"
     ]
    }
   ],
   "source": [
    "# Set the traffic to 100% for the deployment\n",
    "endpoint.traffic = {\"medical-question-deployment\": 100}\n",
    "ml_client.online_endpoints.begin_create_or_update(endpoint).result()\n",
    "\n",
    "print(f\"Endpoint {endpoint_name} is up and running.\")"
   ]
  },
  {
   "cell_type": "markdown",
   "metadata": {},
   "source": [
    "# Verifying the listed endpoints"
   ]
  },
  {
   "cell_type": "code",
   "execution_count": 95,
   "metadata": {},
   "outputs": [
    {
     "name": "stdout",
     "output_type": "stream",
     "text": [
      "endpoint-08051858371678\n",
      "medical-question-endpoint\n",
      "{'medical-question-deployment': 100}\n",
      "https://medical-question-endpoint.westeurope.inference.ml.azure.com/score\n"
     ]
    }
   ],
   "source": [
    "endpoints = ml_client.online_endpoints.list()\n",
    "for endp in endpoints:\n",
    "    print(endp.name)\n",
    "\n",
    "# Get the details for online endpoint\n",
    "endpoint_to_check = ml_client.online_endpoints.get(name=\"medical-question-endpoint\")\n",
    "\n",
    "# existing traffic details\n",
    "print(endpoint_to_check.traffic)\n",
    "\n",
    "# Get the scoring URI\n",
    "print(endpoint_to_check.scoring_uri)\n",
    "\n",
    "endpoint = ml_client.online_endpoints.get(name=endpoint_name)"
   ]
  },
  {
   "cell_type": "markdown",
   "metadata": {},
   "source": [
    "# Testing the deployment"
   ]
  },
  {
   "cell_type": "code",
   "execution_count": 96,
   "metadata": {},
   "outputs": [],
   "source": [
    "import json\n",
    "\n",
    "# Creating an example question in an appropriate JSON format\n",
    "test_question = \"My daughter has menkes syndrome and would like to know how to go about. Thx\"\n",
    "test_question_json = {\"question\": test_question}\n",
    "\n",
    "# Save the question to a file in proper JSON format\n",
    "with open(\"test_question.json\", \"w\") as f:\n",
    "    json.dump(test_question_json, f)\n",
    "\n",
    "# Save the name of the file in a variable\n",
    "test_question_file = \"test_question.json\""
   ]
  },
  {
   "cell_type": "code",
   "execution_count": 98,
   "metadata": {},
   "outputs": [],
   "source": [
    "# Testing the medical-question-deployment with some sample question\n",
    "endpoint_name = \"medical-question-endpoint\"\n",
    "response = ml_client.online_endpoints.invoke(\n",
    "    endpoint_name=endpoint_name,\n",
    "    deployment_name=\"medical-question-deployment\",\n",
    "    request_file=\"test_question.json\",\n",
    ")"
   ]
  },
  {
   "cell_type": "code",
   "execution_count": 105,
   "metadata": {},
   "outputs": [
    {
     "data": {
      "text/plain": [
       "'\"{\\\\\"response\\\\\": \\\\\"Category of question: Information\\\\\\\\nSearch Query and focus of the question: management of Menkes syndrome\\\\\\\\nAnswer: Menkes syndrome, also known as Menkes disease, is a genetic disorder that affects copper levels in the body, leading to various health challenges. Here are some steps you can take to manage the condition:\\\\\\\\n\\\\\\\\n1. **Consult Healthcare Professionals**: Regular visits to a pediatrician, neurologist, and geneticist are essential. They can help monitor your daughter\\'s development and manage symptoms.\\\\\\\\n\\\\\\\\n2. **Copper Supplementation**: Early treatment with copper injections may improve outcomes if started shortly after birth. Discuss with your healthcare provider about the possibility of copper supplementation and the best approach for your daughter.\\\\\\\\n\\\\\\\\n3. **Nutritional Support**: Ensure that your daughter has a balanced diet that supports her overall health. Consult a nutritionist familiar with Menkes syndrome for tailored dietary advice.\\\\\\\\n\\\\\\\\n4. **Physical and Occupational Therapy**: These therapies can help improve motor skills and overall development. Early intervention is crucial for maximizing potential.\\\\\\\\n\\\\\\\\n5. **Genetic Counseling**: Since Menkes syndrome is inherited in an X-linked recessive pattern, genetic counseling can provide information about the condition and its implications for family planning.\\\\\\\\n\\\\\\\\n6. **Monitoring for Complications**: Be vigilant for potential complications such as seizures, developmental delays, and other neurological issues. Early intervention can help manage these symptoms.\\\\\\\\n\\\\\\\\n7. **Support Groups**: Connecting with support groups for families affected by Menkes syndrome can provide emotional support and practical advice from others in similar situations.\\\\\\\\n\\\\\\\\n8. **Educational Support**: As your daughter grows, consider special education services to support her learning needs.\\\\\\\\n\\\\\\\\nFor more detailed information, you can refer to the following resources:\\\\\\\\n- [Menkes syndrome: MedlinePlus Genetics](https://medlineplus.gov/genetics/condition/menkes-syndrome/)\\\\\\\\n- [Menkes Disease - StatPearls - NCBI Bookshelf](https://www.ncbi.nlm.nih.gov/books/NBK560917/)\\\\\\\\n- [Menkes Disease | National Institute of Neurological Disorders and Stroke](https://www.ninds.nih.gov/health-information/disorders/menkes-disease)\\\\\\\\n\\\\\\\\nAlways consult with your healthcare provider for personalized medical advice and treatment options.\\\\\"}\"'"
      ]
     },
     "execution_count": 105,
     "metadata": {},
     "output_type": "execute_result"
    }
   ],
   "source": [
    "response"
   ]
  },
  {
   "cell_type": "code",
   "execution_count": 106,
   "metadata": {},
   "outputs": [
    {
     "name": "stdout",
     "output_type": "stream",
     "text": [
      "Category of question: Information\n",
      "Search Query and focus of the question: management of Menkes syndrome\n",
      "Answer: Menkes syndrome, also known as Menkes disease, is a genetic disorder that affects copper levels in the body, leading to various health challenges. Here are some steps you can take to manage the condition:\n",
      "\n",
      "1. **Consult Healthcare Professionals**: Regular visits to a pediatrician, neurologist, and geneticist are essential. They can help monitor your daughter's development and manage symptoms.\n",
      "\n",
      "2. **Copper Supplementation**: Early treatment with copper injections may improve outcomes if started shortly after birth. Discuss with your healthcare provider about the possibility of copper supplementation and the best approach for your daughter.\n",
      "\n",
      "3. **Nutritional Support**: Ensure that your daughter has a balanced diet that supports her overall health. Consult a nutritionist familiar with Menkes syndrome for tailored dietary advice.\n",
      "\n",
      "4. **Physical and Occupational Therapy**: These therapies can help improve motor skills and overall development. Early intervention is crucial for maximizing potential.\n",
      "\n",
      "5. **Genetic Counseling**: Since Menkes syndrome is inherited in an X-linked recessive pattern, genetic counseling can provide information about the condition and its implications for family planning.\n",
      "\n",
      "6. **Monitoring for Complications**: Be vigilant for potential complications such as seizures, developmental delays, and other neurological issues. Early intervention can help manage these symptoms.\n",
      "\n",
      "7. **Support Groups**: Connecting with support groups for families affected by Menkes syndrome can provide emotional support and practical advice from others in similar situations.\n",
      "\n",
      "8. **Educational Support**: As your daughter grows, consider special education services to support her learning needs.\n",
      "\n",
      "For more detailed information, you can refer to the following resources:\n",
      "- [Menkes syndrome: MedlinePlus Genetics](https://medlineplus.gov/genetics/condition/menkes-syndrome/)\n",
      "- [Menkes Disease - StatPearls - NCBI Bookshelf](https://www.ncbi.nlm.nih.gov/books/NBK560917/)\n",
      "- [Menkes Disease | National Institute of Neurological Disorders and Stroke](https://www.ninds.nih.gov/health-information/disorders/menkes-disease)\n",
      "\n",
      "Always consult with your healthcare provider for personalized medical advice and treatment options.\n"
     ]
    }
   ],
   "source": [
    "# Step 1: Load the initial JSON string\n",
    "decoded_response = json.loads(response)\n",
    "\n",
    "# Step 2: Load the decoded JSON string to access the actual response data\n",
    "response_data = json.loads(decoded_response)\n",
    "response_text = response_data['response']\n",
    "\n",
    "print(response_text)"
   ]
  }
 ],
 "metadata": {
  "kernelspec": {
   "display_name": "base",
   "language": "python",
   "name": "python3"
  },
  "language_info": {
   "codemirror_mode": {
    "name": "ipython",
    "version": 3
   },
   "file_extension": ".py",
   "mimetype": "text/x-python",
   "name": "python",
   "nbconvert_exporter": "python",
   "pygments_lexer": "ipython3",
   "version": "3.11.5"
  }
 },
 "nbformat": 4,
 "nbformat_minor": 2
}
