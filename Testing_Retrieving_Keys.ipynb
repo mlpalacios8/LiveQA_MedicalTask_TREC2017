{
 "cells": [
  {
   "cell_type": "code",
   "execution_count": 8,
   "metadata": {},
   "outputs": [
    {
     "name": "stdout",
     "output_type": "stream",
     "text": [
      "Retrieving your secrets from marcelplaygrou6139287083.\n"
     ]
    }
   ],
   "source": [
    "from azure.keyvault.secrets import SecretClient\n",
    "from azure.identity import DefaultAzureCredential\n",
    "\n",
    "keyVaultName = \"marcelplaygrou6139287083\"\n",
    "KVUri = f\"https://marcelplaygrou6139287083.vault.azure.net\"\n",
    "\n",
    "credential = DefaultAzureCredential()\n",
    "client = SecretClient(vault_url=KVUri, credential=credential)\n",
    "\n",
    "secretName = \"OPENAI-API-KEY\"\n",
    "secretName2 = \"YOU-API-KEY\"\n",
    "\n",
    "print(f\"Retrieving your secrets from marcelplaygrou6139287083.\")\n",
    "\n",
    "retrieved_secret = client.get_secret(secretName)\n",
    "retrieved_secret2 = client.get_secret(secretName2)\n",
    "\n",
    "# print(f\"Your secret is '{retrieved_secret.value}'.\")\n",
    "# print(f\"Your secret is '{retrieved_secret2.value}'.\")"
   ]
  }
 ],
 "metadata": {
  "kernelspec": {
   "display_name": "base",
   "language": "python",
   "name": "python3"
  },
  "language_info": {
   "codemirror_mode": {
    "name": "ipython",
    "version": 3
   },
   "file_extension": ".py",
   "mimetype": "text/x-python",
   "name": "python",
   "nbconvert_exporter": "python",
   "pygments_lexer": "ipython3",
   "version": "3.11.5"
  }
 },
 "nbformat": 4,
 "nbformat_minor": 2
}
